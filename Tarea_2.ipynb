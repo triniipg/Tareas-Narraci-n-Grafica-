{
  "nbformat": 4,
  "nbformat_minor": 0,
  "metadata": {
    "colab": {
      "provenance": []
    },
    "kernelspec": {
      "name": "python3",
      "display_name": "Python 3"
    },
    "language_info": {
      "name": "python"
    }
  },
  "cells": [
    {
      "cell_type": "code",
      "execution_count": 3,
      "metadata": {
        "id": "vUv2u4WKXtCg",
        "colab": {
          "base_uri": "https://localhost:8080/"
        },
        "outputId": "35937fff-a051-4241-b6e3-381e15813ad5"
      },
      "outputs": [
        {
          "output_type": "stream",
          "name": "stdout",
          "text": [
            "1\n",
            "2\n",
            "3\n",
            "4\n",
            "5\n",
            "6\n",
            "7\n",
            "8\n",
            "9\n",
            "10\n",
            "11\n",
            "12\n",
            "13\n",
            "14\n",
            "15\n",
            "16\n",
            "17\n",
            "18\n",
            "19\n",
            "20\n",
            "21\n",
            "22\n",
            "23\n",
            "24\n",
            "25\n",
            "26\n",
            "27\n",
            "28\n",
            "29\n",
            "30\n",
            "31\n",
            "32\n",
            "33\n",
            "34\n",
            "35\n",
            "36\n",
            "37\n",
            "38\n",
            "39\n",
            "40\n",
            "41\n",
            "42\n",
            "43\n",
            "44\n",
            "45\n",
            "46\n",
            "47\n",
            "48\n",
            "49\n",
            "50\n",
            "51\n",
            "52\n",
            "53\n",
            "54\n",
            "55\n",
            "56\n",
            "57\n",
            "58\n",
            "59\n",
            "60\n",
            "61\n",
            "62\n",
            "63\n",
            "64\n",
            "65\n",
            "66\n",
            "67\n",
            "68\n",
            "69\n",
            "70\n",
            "71\n",
            "72\n",
            "73\n",
            "74\n",
            "75\n",
            "76\n",
            "77\n",
            "78\n",
            "79\n",
            "80\n",
            "81\n",
            "82\n",
            "83\n",
            "84\n",
            "85\n",
            "86\n",
            "87\n",
            "88\n",
            "89\n",
            "90\n",
            "91\n",
            "92\n",
            "93\n",
            "94\n",
            "95\n",
            "96\n",
            "97\n",
            "98\n",
            "99\n",
            "100\n"
          ]
        }
      ],
      "source": [
        "for x in range (1,101):\n",
        "  print (x)"
      ]
    },
    {
      "cell_type": "code",
      "source": [
        "for x in range (1,101):\n",
        "  if x % 3 == 0:\n",
        "    print (x)"
      ],
      "metadata": {
        "colab": {
          "base_uri": "https://localhost:8080/"
        },
        "id": "oKAKa18hokWq",
        "outputId": "71d0e65b-8d55-45d4-ea6b-8cb4fdd346ce"
      },
      "execution_count": 6,
      "outputs": [
        {
          "output_type": "stream",
          "name": "stdout",
          "text": [
            "3\n",
            "6\n",
            "9\n",
            "12\n",
            "15\n",
            "18\n",
            "21\n",
            "24\n",
            "27\n",
            "30\n",
            "33\n",
            "36\n",
            "39\n",
            "42\n",
            "45\n",
            "48\n",
            "51\n",
            "54\n",
            "57\n",
            "60\n",
            "63\n",
            "66\n",
            "69\n",
            "72\n",
            "75\n",
            "78\n",
            "81\n",
            "84\n",
            "87\n",
            "90\n",
            "93\n",
            "96\n",
            "99\n"
          ]
        }
      ]
    },
    {
      "cell_type": "code",
      "source": [
        "num1 = int(input(\"primer numero \"))\n",
        "num2 = int(input(\"segundo numero \"))\n",
        "\n",
        "resultado = num1 + num2\n",
        "\n",
        "print (resultado)\n",
        "\n",
        "if (resultado<100):\n",
        "  print (\"menor a 100\")\n",
        "\n",
        "elif(resultado>100 and resultado<150):\n",
        "  print (\"mayor a 100\")\n",
        "\n",
        "elif(resultado>150):\n",
        "  print (\"mayor a 150\")\n"
      ],
      "metadata": {
        "colab": {
          "base_uri": "https://localhost:8080/"
        },
        "id": "r3th9hy0pbGX",
        "outputId": "d56530d3-1509-47ff-84c7-7de0029924d9"
      },
      "execution_count": 14,
      "outputs": [
        {
          "output_type": "stream",
          "name": "stdout",
          "text": [
            "primer numero 150\n",
            "segundo numero 200\n",
            "350\n",
            "mayor a 150\n"
          ]
        }
      ]
    },
    {
      "cell_type": "code",
      "source": [
        "edad = int(input(\"¿cual es tu edad? \"))\n",
        "\n",
        "programar = (input(\"¿te interesa programar? (si/no) \"))\n",
        "\n",
        "if (edad>=18 and programar==\"si\"):\n",
        "  print (\"eres mayor de edad y te gusta programar\")\n",
        "\n",
        "elif (edad>=18 and programar==\"no\"):\n",
        "  print (\"eres mayor de edad y no te gusta programar\")\n",
        "\n",
        "elif (edad<18 and programar==\"si\"):\n",
        "  print (\"eres menor de edad y te gusta programar\")\n",
        "\n",
        "elif (edad<18 and programar==\"no\"):\n",
        "  print (\"eres menor de edad y no te gusta programar\")\n"
      ],
      "metadata": {
        "colab": {
          "base_uri": "https://localhost:8080/"
        },
        "id": "BKCI0mmhuLBl",
        "outputId": "5c01626f-e964-467a-a77d-bb3c44186fe1"
      },
      "execution_count": 16,
      "outputs": [
        {
          "output_type": "stream",
          "name": "stdout",
          "text": [
            "¿cual es tu edad? 21\n",
            "¿te interesa programar? (si/no) si\n",
            "eres mayor de edad y te gusta programar\n"
          ]
        }
      ]
    }
  ]
}